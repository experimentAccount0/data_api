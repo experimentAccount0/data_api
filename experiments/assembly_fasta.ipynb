{
 "cells": [
  {
   "cell_type": "code",
   "execution_count": 1,
   "metadata": {
    "collapsed": false
   },
   "outputs": [],
   "source": [
    "from doekbase.data_api.sequence.assembly import api\n",
    "import os\n",
    "import time\n",
    "token = os.environ['KB_AUTH_TOKEN']\n",
    "services = {'workspace_service_url': \"https://ci.kbase.us/services/ws/\",\n",
    "           'handle_service_url': 'https://ci.kbase.us/services/handle_service/',\n",
    "           'shock_service_url': 'https://ci.kbase.us/services/shock-api/'}"
   ]
  },
  {
   "cell_type": "code",
   "execution_count": 2,
   "metadata": {
    "collapsed": false
   },
   "outputs": [],
   "source": [
    "#asm = api.AssemblyAPI(services=services, token=token, ref='4258/35081/1')\n",
    "anew =  api.AssemblyAPI(services=services, token=token, ref='5810/18/2')"
   ]
  },
  {
   "cell_type": "code",
   "execution_count": 3,
   "metadata": {
    "collapsed": false
   },
   "outputs": [
    {
     "name": "stdout",
     "output_type": "stream",
     "text": [
      "uncompressed: 14.2124428749\n",
      "uncompressed: 14.7951419353\n",
      "uncompressed: 14.1744241714\n"
     ]
    }
   ],
   "source": [
    "for i in range(3):\n",
    "    t0 = time.time()\n",
    "    anew.get_fasta().to_file(file('arabidopsis.fasta', 'w'))\n",
    "    print(\"uncompressed: {}\".format(time.time() - t0))"
   ]
  },
  {
   "cell_type": "code",
   "execution_count": null,
   "metadata": {
    "collapsed": true
   },
   "outputs": [],
   "source": []
  }
 ],
 "metadata": {
  "kernelspec": {
   "display_name": "Python 2",
   "language": "python",
   "name": "python2"
  },
  "language_info": {
   "codemirror_mode": {
    "name": "ipython",
    "version": 2
   },
   "file_extension": ".py",
   "mimetype": "text/x-python",
   "name": "python",
   "nbconvert_exporter": "python",
   "pygments_lexer": "ipython2",
   "version": "2.7.11"
  }
 },
 "nbformat": 4,
 "nbformat_minor": 0
}
