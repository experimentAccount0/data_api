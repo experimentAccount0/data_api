{
 "cells": [
  {
   "cell_type": "code",
   "execution_count": 40,
   "metadata": {
    "collapsed": true
   },
   "outputs": [],
   "source": [
    "from doekbase.data_api.sequence.assembly.api import AssemblyAPI\n",
    "from doekbase.data_api.annotation.genome_annotation.api import GenomeAnnotationAPI\n",
    "from doekbase.data_api.taxonomy.taxon.api import TaxonAPI\n",
    "from doekbase.workspace.client import Workspace\n",
    "from doekbase.data_api.core import ObjectAPI\n",
    "from doekbase.handle.Client import AbstractHandle as handleClient\n",
    "\n",
    "services = {\"workspace_service_url\": \"https://ci.kbase.us/services/ws/\",\n",
    "            \"shock_service_url\": \"https://ci.kbase.us/services/shock-api/\",\n",
    "            \"handle_service_url\": \"https://ci.kbase.us/services/handle_service/\"}\n",
    "\n",
    "import os\n",
    "import string\n",
    "\n",
    "token = os.environ[\"KB_AUTH_TOKEN\"]\n"
   ]
  },
  {
   "cell_type": "code",
   "execution_count": 41,
   "metadata": {
    "collapsed": false
   },
   "outputs": [],
   "source": [
    "genome_ref = 'ReferenceGenomeAnnotations/kb|g.166819'#6838/146'#ReferenceGenomeAnnotationsV5/kb|g.166819\n",
    "working_directory =\"./\"\n",
    "\n",
    "ga_api = GenomeAnnotationAPI(services, token=token, ref=genome_ref)\n",
    "\n",
    "tax_api = ga_api.get_taxon()\n",
    "\n",
    "asm_api = ga_api.get_assembly()"
   ]
  },
  {
   "cell_type": "code",
   "execution_count": 46,
   "metadata": {
    "collapsed": false
   },
   "outputs": [
    {
     "name": "stdout",
     "output_type": "stream",
     "text": [
      "628\n"
     ]
    }
   ],
   "source": [
    "genome_name = str(ga_api.get_id())\n",
    "\n",
    "print genome_name\n",
    "\n",
    "valid_chars = \"-_.(){0}{1}\".format(string.ascii_letters, string.digits)\n",
    "temp_file_name = \"\"\n",
    "filename_chars = list()\n",
    "\n",
    "for character in genome_name:\n",
    "    if character in valid_chars:\n",
    "        filename_chars.append(character)\n",
    "    else:\n",
    "        filename_chars.append(\"_\")\n",
    "\n",
    "if len(filename_chars) == 0:\n",
    "    temp_file_name = \"GenbankFile\"\n",
    "else:\n",
    "    temp_file_name = \"\".join(filename_chars)+\".gbk\"\n",
    "\n",
    "output_file = os.path.join(working_directory,temp_file_name)\n",
    "\n",
    "contig_ids = asm_api.get_contig_ids()\n",
    "contig_lengths = asm_api.get_contig_lengths(contig_ids)"
   ]
  },
  {
   "cell_type": "code",
   "execution_count": 60,
   "metadata": {
    "collapsed": true
   },
   "outputs": [],
   "source": [
    "def writeHeader(contig_id, contig_lengths, fulltax, tax_api, outFile):\n",
    "    outFile.write(\"LOCUS       \" + contig_id + \"             \" + str(contig_lengths[contig_id]) + \" bp    \" +\"DNA\\n\")\n",
    "    sn = tax_api.get_scientific_name()\n",
    "    outFile.write(\"DEFINITION  \" + sn + \" genome.\\n\")\n",
    "    outFile.write(\"SOURCE      \" + sn + \"\\n\")\n",
    "    outFile.write(\"  ORGANISM  \" + sn + \"\\n\")\n",
    "\n",
    "    fulltax = tax_api.get_scientific_lineage();\n",
    "    fulltaxstring = ';'.join(fulltax)\n",
    "    print fulltax\n",
    "\n",
    "    if (fulltax):\n",
    "        formatTax = \"\"\n",
    "\n",
    "        counter = 0\n",
    "        index = 0\n",
    "        while (index < len(fulltax)):\n",
    "            formatTax.join(fulltax[index])\n",
    "            if (index < len(fulltax) - 1):\n",
    "                formatTax.join(\" \")\n",
    "            counter=counter+ len(fulltax[index]) + 1\n",
    "            index=index+1\n",
    "\n",
    "            if (counter >= 65 or len(fulltaxstring) < 80):\n",
    "                formatTax.join(\"\\n\")\n",
    "                formatTax.join(\"            \")\n",
    "                counter = 0\n",
    "\n",
    "        outFile.write(\"            \" + formatTax + \".\\n\")\n",
    "\n",
    "    outFile.write(\"COMMENT     Exported from the DOE KnowledgeBase.\\n\")\n",
    "\n",
    "    outFile.write(\"FEATURES             Location/Qualifiers\\n\")\n",
    "    outFile.write(\"     source          1..\" + str(contig_lengths[contig_id]) + \"\\n\")\n",
    "    outFile.write(\"                     /organism=\\\"\" + tax_api.get_scientific_name() + \"\\\"\\n\")\n",
    "    outFile.write(\"                     /mol_type=\\\"DNA\\\"\\n\") "
   ]
  },
  {
   "cell_type": "code",
   "execution_count": 77,
   "metadata": {
    "collapsed": false
   },
   "outputs": [],
   "source": [
    "def writeFeatures(ga_api, regions, outFile):\n",
    "    feature_ids = ga_api.get_feature_ids(filters={\"region_list\":regions})\n",
    "    features = ga_api.get_features(feature_ids['by_type']['gene'])\n",
    "    print len(features)\n",
    "    \n",
    "    for feat in features:\n",
    "        \n",
    "        print feat\n",
    "        print features[feat]\n",
    "        \n",
    "        if (feat['type'] == \"CDS\") :\n",
    "            outFile.write(\"     gene            \")\n",
    "        else :\n",
    "            if (function.indexOf(\"tRNA\") != -1) :\n",
    "                outFile.write(\"     tRNA            \")\n",
    "            else :\n",
    "                outFile.write(\"     misc_RNA        \")\n",
    "\n",
    "        #out = writeCDS(location, outFile)\n",
    "\n",
    "        if (feat['type'] == \"CDS\") :\n",
    "            outFile.write(\"     CDS             \")\n",
    "            #writeCDS(location, outFile)\n",
    "            outFile.write(\"                     /gene=\\\"\" + id + \"\\\"\\n\")\n",
    "\n",
    "        #outFile.write(\"                     /note=\\\"\" + formatNote)\n",
    "        #out += \"                     /codon_start=1\\n\"\n",
    "        #out += \"                     /transl_table=11\\n\"\n",
    "        #outFile.write(\"                     /product=\\\"\" + id + \"\\\"\\n\")\n",
    "        outFile.write(\"                     /function=\\\"\" + formatFunction)\n",
    "\n",
    "        if (feat['type'] == \"CDS\") :\n",
    "            str = \"                     /protein_id=\\\"\" + id + \"\\\"\\n\"\n",
    "            outFile.write(str)\n",
    "\n",
    "        aliases = cur.getAliases()\n",
    "        if (aliases != null) :\n",
    "            for s in aliases :\n",
    "                outFile.write(\"                     /db_xref=\\\"id:\" + s + \"\\\"\\n\")\n",
    "\n",
    "        proteinTranslation = cur['amino_acid_sequence']\n",
    "        if (proteinTranslation != null):\n",
    "            outFile.write(\"                     /translation=\\\"\" + formatString(proteinTranslation, 44, 58));"
   ]
  },
  {
   "cell_type": "code",
   "execution_count": 74,
   "metadata": {
    "collapsed": false
   },
   "outputs": [],
   "source": [
    "def writeCDS():\n",
    "    added = 0\n",
    "    complement = false\n",
    "    join = false\n",
    "    for n in range(0, len(location)) :\n",
    "        now4 = location[n]\n",
    "        if (added == 0 and now4['strand'] == \"-\") :\n",
    "            outFile.write(\"complement(\")\n",
    "            complement = true\n",
    "\n",
    "        if (len(location) > 1) :\n",
    "            if (added == 0):\n",
    "                outFile.write(\"join(\")\n",
    "            join = true\n",
    "        \n",
    "        #outpu location info\n",
    "        #if (complement is false):\n",
    "        #    outFile.write(now4.getE2() + \"..\" + (now4.getE2() + (long) now4.getE4() - 1))\n",
    "        #else :\n",
    "        #    outFile.write((now4.getE2() - (long) now4.getE4() + 1) + \"..\" + now4.getE2())\n",
    "\n",
    "        #if (location.size() > 0 and n < location.size() - 1)\n",
    "        #    outFile.write(\",\")\n",
    "        added = added + 1\n",
    "\n",
    "    if (complement and join):\n",
    "        outFile.write(\"))\\n\")\n",
    "    elif (complement or join):\n",
    "        outFile.write(\")\\n\")\n",
    "    else:\n",
    "        outFile.write(\"\\n\")"
   ]
  },
  {
   "cell_type": "code",
   "execution_count": 75,
   "metadata": {
    "collapsed": false
   },
   "outputs": [],
   "source": [
    "def formatString(s, one, two) :\n",
    "    s = s.replace(\"\\\"\", \"\")\n",
    "    out = \"\"\n",
    "    first = true\n",
    "    for start in range(0, s.length()) :\n",
    "        if (first) :\n",
    "            lista = [len(s), start+one]\n",
    "            last = min(lista)\n",
    "            isLast = false\n",
    "            if (last == len(s)):\n",
    "                isLast = true\n",
    "            out.append(s[start : last])\n",
    "            if (isLast):\n",
    "                out.append(\"\\\"\\n\")\n",
    "            else :\n",
    "                out.append(\"\\n\")\n",
    "            \n",
    "            first = false;\n",
    "            start = start+one;\n",
    "        else :\n",
    "            lista = [len(s), start+two]\n",
    "            last = min(lista)\n",
    "            out.append(\"                     \")\n",
    "            isLast = false\n",
    "            if (last == len(s)):\n",
    "                isLast = true\n",
    "            out.append(s[start: last])\n",
    "            start = start + two\n",
    "            if (isLast) :\n",
    "                out.append(\"\\\"\\n\")            \n",
    "            else:\n",
    "                out.append(\"\\n\");\n",
    "    out"
   ]
  },
  {
   "cell_type": "code",
   "execution_count": 78,
   "metadata": {
    "collapsed": false
   },
   "outputs": [
    {
     "name": "stdout",
     "output_type": "stream",
     "text": [
      "kb|g.166819.c.7\n",
      "[u'cellular organisms', u'Eukaryota', u'Viridiplantae', u'Chlorophyta', u'prasinophytes', u'Mamiellophyceae', u'Mamiellales', u'Bathycoccaceae', u'Ostreococcus']\n"
     ]
    }
   ],
   "source": [
    "\n",
    "with open(output_file, \"w\") as outFile:\n",
    "\n",
    "    #\n",
    "    #create per-contig section in gbk file\n",
    "    #\n",
    "    for contig_id in contig_ids:\n",
    "\n",
    "        start=1\n",
    "        stop=contig_lengths[contig_id]\n",
    "\n",
    "        print contig_id\n",
    "        writeHeader(contig_id, contig_lengths, fulltax, tax_api, outFile)\n",
    "        regions = []\n",
    "        contig_add = {\"contig_id\": c, \"start\": start, \"length\": stop-start, \"strand\": \"+\"}\n",
    "        contig_add2 = {\"contig_id\": c, \"start\": stop, \"length\": stop-start, \"strand\": \"-\"}        \n",
    "        regions.append(contig_add)\n",
    "        regions.append(contig_add2)\n",
    "\n",
    "        writeFeatures(ga_api, regions, outFile)\n",
    "\n",
    "        #write contig sequence\n",
    "\n",
    "        break\n",
    "\n",
    "outFile.close()    \n",
    "#raise IOError(\"The Assembly associated with this GenomeAnnotation does not have a fasta_ref to shock or sequences in the contigs. A Genbank file can not be created.  Likely dueto the ContigSet being too large.\")\n",
    "\n"
   ]
  },
  {
   "cell_type": "code",
   "execution_count": null,
   "metadata": {
    "collapsed": true
   },
   "outputs": [],
   "source": []
  }
 ],
 "metadata": {
  "kernelspec": {
   "display_name": "Python 2",
   "language": "python",
   "name": "python2"
  },
  "language_info": {
   "codemirror_mode": {
    "name": "ipython",
    "version": 2
   },
   "file_extension": ".py",
   "mimetype": "text/x-python",
   "name": "python",
   "nbconvert_exporter": "python",
   "pygments_lexer": "ipython2",
   "version": "2.7.10"
  }
 },
 "nbformat": 4,
 "nbformat_minor": 0
}
